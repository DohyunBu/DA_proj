{
 "cells": [
  {
   "cell_type": "markdown",
   "metadata": {},
   "source": [
    "## Import"
   ]
  },
  {
   "cell_type": "code",
   "execution_count": 1,
   "metadata": {},
   "outputs": [],
   "source": [
    "import pandas as pd\n",
    "import numpy as np\n",
    "\n",
    "import seaborn as sns\n",
    "import matplotlib.pyplot as plt\n",
    "\n",
    "import torch\n",
    "from torch.distributions.normal import Normal\n",
    "from torch import nn, optim  \n",
    "from torch.utils.data import DataLoader, Dataset     \n",
    "import torch.nn.functional as F  \n",
    "import torch.nn as nn\n",
    "import torch.optim as optim\n",
    "from torch.utils.data import DataLoader, TensorDataset\n",
    "import os\n",
    "from torch.nn.parameter import Parameter\n",
    "\n",
    "\n",
    "from sklearn.model_selection import train_test_split\n",
    "\n",
    "from tqdm import tqdm\n",
    "import random\n",
    "import copy\n",
    "\n",
    "import copy\n",
    "\n",
    "from cdd import CDD\n"
   ]
  },
  {
   "cell_type": "code",
   "execution_count": 2,
   "metadata": {},
   "outputs": [],
   "source": [
    "# data import\n",
    "df_s = pd.read_csv('df_s_convex_concave.csv')\n",
    "df_s_true = pd.read_csv('df_s_true_convex_concave.csv')\n",
    "df_t = pd.read_csv('df_t_convex_concave.csv')\n",
    "df_t_true = pd.read_csv('df_t_true_convex_concave.csv')\n",
    "df_t_labeled = pd.read_csv('df_t_labeled_true_convex_concave.csv')"
   ]
  },
  {
   "cell_type": "code",
   "execution_count": 3,
   "metadata": {},
   "outputs": [],
   "source": [
    "# data preprocessing\n",
    "x_s = torch.tensor(df_s['X']).reshape(-1,1).type(torch.float32)\n",
    "x_t =torch.tensor(df_t['X']).reshape(-1,1).type(torch.float32)\n",
    "x_t_labeled =torch.tensor(df_t_labeled['X']).reshape(-1,1).type(torch.float32)\n",
    "y_s = torch.tensor(df_s['Y']).reshape(-1,1).type(torch.float32)\n",
    "y_t =torch.tensor(df_t['Y']).reshape(-1,1).type(torch.float32)\n",
    "y_t_labeled =torch.tensor(df_t_labeled['Y']).reshape(-1,1).type(torch.float32)\n",
    "y_s_true = torch.tensor(df_s_true['Y']).reshape(-1,1).type(torch.float32)\n",
    "y_t_true =torch.tensor(df_t_true['Y']).reshape(-1,1).type(torch.float32)"
   ]
  },
  {
   "cell_type": "markdown",
   "metadata": {},
   "source": [
    "## DAR"
   ]
  },
  {
   "cell_type": "code",
   "execution_count": 4,
   "metadata": {},
   "outputs": [],
   "source": [
    "class Net(nn.Module):\n",
    "    def __init__(self):\n",
    "        super().__init__()\n",
    "        self.h1 = nn.Linear(1, 40)\n",
    "        self.relu = nn.ReLU()\n",
    "        self.h2 = nn.Linear(40, 40)\n",
    "        self.h4 = nn.Linear(40,40)\n",
    "        self.reg = nn.Linear(40, 1)\n",
    "        \n",
    "        \n",
    "        \n",
    "    def forward(self, x):\n",
    "        h1_x = self.h1(x)\n",
    "        h1_x = self.relu(h1_x)\n",
    "        h1_x = self.h2(h1_x)\n",
    "        h1_x = self.relu(h1_x)\n",
    "        h1_x = self.h4(h1_x)\n",
    "        h1_x = self.relu(h1_x)\n",
    "        h1_x = self.reg(h1_x)\n",
    "\n",
    "        return h1_x\n",
    "    \n",
    "    def output(self, x):\n",
    "        h1_x = self.h1(x)\n",
    "        h1_x = self.relu(h1_x)\n",
    "        h1_x = self.h2(h1_x)\n",
    "        h1_x = self.relu(h1_x)\n",
    "        h1_x = self.h4(h1_x)\n",
    "        f_x = self.relu(h1_x)\n",
    "        y_hat = self.reg(h1_x)\n",
    "        return {'f_x':f_x, 'output':y_hat}"
   ]
  },
  {
   "cell_type": "markdown",
   "metadata": {},
   "source": [
    "### Pretrained"
   ]
  },
  {
   "cell_type": "markdown",
   "metadata": {},
   "source": [
    "### DA"
   ]
  },
  {
   "cell_type": "code",
   "execution_count": 7,
   "metadata": {},
   "outputs": [],
   "source": [
    "class MELU(torch.nn.Module): # alpha(max(0,w) + min(1,exp(w))) - b\n",
    "    def __init__(\n",
    "        self,\n",
    "        in_features: int,\n",
    "        out_features: int,\n",
    "    ) -> None:\n",
    "        super(MELU, self).__init__()\n",
    "        self.in_features = in_features\n",
    "        self.out_features = out_features\n",
    "        self.weights = Parameter(torch.Tensor(in_features, out_features))\n",
    "        self.bias = Parameter(torch.Tensor(out_features))\n",
    "        self.reset_parameters()\n",
    "    def reset_parameters(self) -> None:\n",
    "        torch.nn.init.trunc_normal_(self.weights, mean=0, std=0.5)\n",
    "        torch.nn.init.trunc_normal_(self.bias, mean=0, std=0.5)\n",
    "    def forward(\n",
    "        self,\n",
    "        inputs: torch.Tensor\n",
    "    ) -> torch.Tensor:\n",
    "        monotonic_weights = torch.zeros(self.weights.shape)\n",
    "        monotonic_weights[self.weights >= 0] = self.weights[self.weights >= 0]\n",
    "        monotonic_weights[self.weights < 0] = torch.exp(self.weights[self.weights < 0])\n",
    "        output = inputs.matmul(monotonic_weights) - self.bias\n",
    "        return output\n",
    "    def extra_repr(self):\n",
    "        return f'in_features={self.in_features}, out_features={self.out_features}'\n",
    "\n",
    "class Mapper(nn.Module):\n",
    "    def __init__(self):\n",
    "        super(Mapper, self).__init__()\n",
    "        self._input_shape = 1\n",
    "        self._num_units = 10\n",
    "        hidden_sizes = [self._num_units] + [10]\n",
    "        layers = []\n",
    "        layers.append(MELU(in_features=self._input_shape, out_features=self._num_units))\n",
    "        for in_features, out_features in zip(hidden_sizes, hidden_sizes[1:]):\n",
    "            layers.append(MELU(in_features, out_features))\n",
    "        layers.append(MELU(in_features=hidden_sizes[-1], out_features=1))\n",
    "        self.model = nn.ModuleList(layers)\n",
    "    \n",
    "    def forward(self, inputs) -> torch.Tensor:\n",
    "        outputs = inputs\n",
    "        convex_ratio, concave_ratio = [0.5,0.5] # Activation Ratio\n",
    "        for layer_i in range(len(self.model)-1):\n",
    "            outputs = self.model[layer_i](outputs)\n",
    "            outputs_list = outputs.split((round(len(outputs[0])*convex_ratio),round(len(outputs[0])*concave_ratio),len(outputs[0])-(round(len(outputs[0])*convex_ratio)+round(len(outputs[0])*concave_ratio))),dim=1)\n",
    "            result_list = torch.tensor([])\n",
    "            result_list = torch.cat([result_list,nn.ELU()(outputs_list[0])],axis=1)\n",
    "            result_list = torch.cat([result_list,-nn.ELU()(-outputs_list[1])],axis=1)\n",
    "            temp_list = torch.zeros(outputs_list[2].shape)\n",
    "            temp_list[outputs_list[2] < 0] = nn.ELU()(outputs_list[2][outputs_list[2] < 0] + 1) - nn.ELU()(torch.tensor(1.))\n",
    "            temp_list[outputs_list[2] >= 0] = nn.ELU()(outputs_list[2][outputs_list[2] >= 0] - 1) + nn.ELU()(torch.tensor(1.))\n",
    "            result_list = torch.cat([result_list,temp_list],axis=1)\n",
    "            outputs = result_list\n",
    "        outputs = self.model[-1](outputs)\n",
    "        return outputs\n",
    "    \n",
    "    def output(self, inputs) -> torch.Tensor:\n",
    "        outputs = inputs\n",
    "        convex_ratio, concave_ratio = [0.5,0.5] # Activation Ratio\n",
    "        for layer_i in range(len(self.model)-1):\n",
    "            outputs = self.model[layer_i](outputs)\n",
    "            outputs_list = outputs.split((round(len(outputs[0])*convex_ratio),round(len(outputs[0])*concave_ratio),len(outputs[0])-(round(len(outputs[0])*convex_ratio)+round(len(outputs[0])*concave_ratio))),dim=1)\n",
    "            result_list = torch.tensor([])\n",
    "            result_list = torch.cat([result_list,nn.ELU()(outputs_list[0])],axis=1)\n",
    "            result_list = torch.cat([result_list,-nn.ELU()(-outputs_list[1])],axis=1)\n",
    "            temp_list = torch.zeros(outputs_list[2].shape)\n",
    "            temp_list[outputs_list[2] < 0] = nn.ELU()(outputs_list[2][outputs_list[2] < 0] + 1) - nn.ELU()(torch.tensor(1.))\n",
    "            temp_list[outputs_list[2] >= 0] = nn.ELU()(outputs_list[2][outputs_list[2] >= 0] - 1) + nn.ELU()(torch.tensor(1.))\n",
    "            result_list = torch.cat([result_list,temp_list],axis=1)\n",
    "            outputs1 = result_list\n",
    "        outputs = self.model[-1](outputs1)\n",
    "        return {'f_x':outputs1, 'output':outputs}"
   ]
  },
  {
   "cell_type": "code",
   "execution_count": 10,
   "metadata": {},
   "outputs": [
    {
     "name": "stderr",
     "output_type": "stream",
     "text": [
      "  0%|          | 0/5 [00:00<?, ?it/s]"
     ]
    },
    {
     "name": "stdout",
     "output_type": "stream",
     "text": [
      "source mse : 0.023348918184638023, denoise source mse : 0.014073538593947887\n"
     ]
    }
   ],
   "source": [
    "mapper = Mapper()\n",
    "optimizer = optim.Adam(mapper.parameters(), lr=0.01)\n",
    "best_mapper = copy.deepcopy(mapper)\n",
    "best_loss = 1000\n",
    "loss_list = []\n",
    "bn = len(x_t_labeled)\n",
    "bn_s = len(x_s)//5\n",
    "experiment_num = 5\n",
    "darc_original_vc_result = []\n",
    "darc_original_vc_result2 = []\n",
    "\n",
    "for experiment_i in tqdm(range(experiment_num)):\n",
    "    model = Net()\n",
    "    optimizer_parent = optim.Adam(model.parameters(), lr=0.001)\n",
    "    best_loss = 1000\n",
    "    sample = random.sample(range(len(x_s)), len(x_s)*4//5)\n",
    "    val_sample = list(set(range(len(x_s))) - set(sample))\n",
    "    for epoch in range(10000):\n",
    "        model.train()\n",
    "        optimizer_parent.zero_grad()\n",
    "        batch_sample = random.sample(sample, 30)\n",
    "        model_output_s = model.output(x_s[batch_sample])\n",
    "        latent_x_s = model_output_s['f_x']\n",
    "        y_s_hat = model_output_s['output']\n",
    "        y_s_mse = torch.nn.functional.mse_loss(y_s_hat, y_s[batch_sample])\n",
    "        y_s_mse.backward()\n",
    "        optimizer_parent.step()\n",
    "\n",
    "        model.eval()\n",
    "        model_output_s = model.output(x_s[val_sample])\n",
    "        latent_x_s = model_output_s['f_x']\n",
    "        y_s_hat = model_output_s['output']\n",
    "        val_loss = torch.nn.functional.mse_loss(y_s_hat, y_s[val_sample])\n",
    "        if best_loss > val_loss:\n",
    "            best_loss = val_loss\n",
    "            best_model = copy.deepcopy(model)\n",
    "    model_output_s = model.output(x_s)\n",
    "    latent_x_s = model_output_s['f_x']\n",
    "    y_s_hat = model_output_s['output']\n",
    "\n",
    "    y_s_mse = torch.nn.functional.mse_loss(y_s_hat, y_s)\n",
    "    y_s_true_mse = torch.nn.functional.mse_loss(y_s_hat, y_s_true)\n",
    "    darc_original_vc_result2.append([y_s_mse.detach().item(), y_s_true_mse.detach().item()])\n",
    "    print(f\"source mse : {y_s_mse.detach().item()}, denoise source mse : {y_s_true_mse.detach().item()}\")\n",
    "    pd.DataFrame(darc_original_vc_result2, columns=['TEST MSE', 'DENOISE TEST MSE']).to_csv('mSOURCE_VC_RESULT.csv', index=0)\n",
    "\n",
    "\n",
    "\n",
    "    model = copy.deepcopy(best_model)\n",
    "\n",
    "    for epoch in range(10000):\n",
    "        optimizer.zero_grad()\n",
    "        mapper.train()\n",
    "\n",
    "        latent_x_s = x_s\n",
    "        \n",
    "        mapper_output_t_labeled = mapper.output(x_t_labeled)\n",
    "        latent_x_t_labeled = mapper_output_t_labeled['output']\n",
    "        \n",
    "        \n",
    "        # source latent에서 batch 추출\n",
    "        batch_latent_x_s_index = torch.randperm(latent_x_s.size(0))[:bn_s]\n",
    "        batch_latent_x_s = latent_x_s[batch_latent_x_s_index]\n",
    "\n",
    "\n",
    "        # cdd loss\n",
    "        feats_toalign_S = [batch_latent_x_s, torch.tensor([1]).repeat(len(batch_latent_x_s),1)]\n",
    "        feats_toalign_T = [latent_x_t_labeled, torch.tensor([1]).repeat(len(latent_x_t_labeled),1)]\n",
    "        cdd = CDD(kernel_num=(10,10), kernel_mul=(2,2), num_layers=2, num_classes=1, intra_only=True)\n",
    "        cdd_loss = cdd.forward(feats_toalign_S, feats_toalign_T, [bn_s], [bn])['cdd']\n",
    "\n",
    "        # ns loss\n",
    "        epsilon_k = 10\n",
    "\n",
    "        f_s_vector = latent_x_s\n",
    "        f_t_vector = latent_x_t_labeled\n",
    "\n",
    "        from sklearn.neighbors import KNeighborsRegressor\n",
    "        knn = KNeighborsRegressor(n_neighbors=epsilon_k)\n",
    "        knn.fit(y_s, np.array(range(len(y_s))))\n",
    "        total_ns_loss = 0\n",
    "        for i in range(bn):\n",
    "            best_dist = 1000\n",
    "            error = 0\n",
    "            neighbors = knn.kneighbors(y_t_labeled[i].reshape(-1,1))[1][0].tolist()\n",
    "            for index_i in neighbors:\n",
    "                temp_f_dist = torch.abs(f_t_vector[i] - f_s_vector[index_i]).norm()\n",
    "                temp_y_dist = torch.abs(y_t_labeled[i] - y_s[index_i]).norm()\n",
    "                if best_dist > temp_f_dist + temp_y_dist:\n",
    "                    best_dist = temp_f_dist + temp_y_dist\n",
    "                    error = temp_f_dist\n",
    "            total_ns_loss += error\n",
    "        ns_loss = total_ns_loss / bn\n",
    "\n",
    "        total_loss = cdd_loss + ns_loss\n",
    "        \n",
    "        if best_loss > total_loss:\n",
    "            best_loss = total_loss\n",
    "            best_mapper = copy.deepcopy(mapper)\n",
    "        total_loss.backward()\n",
    "        optimizer.step()\n",
    "\n",
    "        loss_list.append(total_loss.detach().item())\n",
    "    \n",
    "    model_output_s = model.output(x_s)\n",
    "    latent_x_s = model_output_s['f_x']\n",
    "    y_s_hat = model_output_s['output']\n",
    "\n",
    "    f_t = best_mapper.output(x_t)['output']\n",
    "    model_output_t = model.output(f_t)\n",
    "    latent_x_t = model_output_t['f_x']\n",
    "    y_t_hat = model_output_t['output']\n",
    "\n",
    "\n",
    "    # mse loss\n",
    "    y_s_mse = torch.nn.functional.mse_loss(y_s_hat, y_s_true)\n",
    "    y_t_mse = torch.nn.functional.mse_loss(y_t_hat, y_t)\n",
    "    y_t_true_mse = torch.nn.functional.mse_loss(y_t_hat, y_t_true)\n",
    "\n",
    "    print(f\"source mse : {y_s_mse}, target mse : {y_t_mse}, denoise mse : {y_t_true_mse}\")    \n",
    "    darc_original_vc_result.append([y_t_mse.detach().item(), y_t_true_mse.detach().item()])\n",
    "\n",
    "    pd.DataFrame(y_t_hat.detach().numpy(), columns=['y_hat']).to_csv(f'mDAR_VC_MODEL{experiment_i}.csv', index=0)\n",
    "    pd.DataFrame(darc_original_vc_result, columns=['TEST MSE', 'DENOISE TEST MSE']).to_csv('mDAR_VC_RESULT.csv', index=0)"
   ]
  },
  {
   "cell_type": "code",
   "execution_count": 10,
   "metadata": {},
   "outputs": [
    {
     "name": "stdout",
     "output_type": "stream",
     "text": [
      "source mse : 0.0021423164289444685, target mse : 0.473580002784729, denoise mse : 0.4612704813480377\n"
     ]
    }
   ],
   "source": [
    "model_output_s = model.output(x_s)\n",
    "latent_x_s = model_output_s['f_x']\n",
    "y_s_hat = model_output_s['output']\n",
    "\n",
    "f_t = best_mapper.output(x_t)['output']\n",
    "model_output_t = model.output(f_t)\n",
    "latent_x_t = model_output_t['f_x']\n",
    "y_t_hat = model_output_t['output']\n",
    "\n",
    "\n",
    "# mse loss\n",
    "y_s_mse = torch.nn.functional.mse_loss(y_s_hat, y_s_true)\n",
    "y_t_mse = torch.nn.functional.mse_loss(y_t_hat, y_t)\n",
    "y_t_true_mse = torch.nn.functional.mse_loss(y_t_hat, y_t_true)\n",
    "\n",
    "print(f\"source mse : {y_s_mse}, target mse : {y_t_mse}, denoise mse : {y_t_true_mse}\")"
   ]
  },
  {
   "cell_type": "code",
   "execution_count": 11,
   "metadata": {},
   "outputs": [
    {
     "data": {
      "text/plain": [
       "<matplotlib.legend.Legend at 0x2bab40c0e10>"
      ]
     },
     "execution_count": 11,
     "metadata": {},
     "output_type": "execute_result"
    },
    {
     "data": {
      "image/png": "[encoded data removed]",
      "text/plain": [
       "<Figure size 1200x500 with 1 Axes>"
      ]
     },
     "metadata": {},
     "output_type": "display_data"
    }
   ],
   "source": [
    "plt.figure(figsize=(12,5))\n",
    "plt.plot(x_t, y_t_hat.detach().numpy(), c='blue', label='DAR', zorder=2)\n",
    "plt.scatter(x_t_labeled, y_t_labeled, c='red', label='known target data', zorder=1)\n",
    "plt.plot(x_t, y_t_true, c='red', label='true target function', zorder=1)\n",
    "plt.xlabel('input')\n",
    "plt.ylabel('output')\n",
    "plt.legend()"
   ]
  },
  {
   "cell_type": "code",
   "execution_count": null,
   "metadata": {},
   "outputs": [],
   "source": []
  }
 ],
 "metadata": {
  "kernelspec": {
   "display_name": "Python 3",
   "language": "python",
   "name": "python3"
  },
  "language_info": {
   "codemirror_mode": {
    "name": "ipython",
    "version": 3
   },
   "file_extension": ".py",
   "mimetype": "text/x-python",
   "name": "python",
   "nbconvert_exporter": "python",
   "pygments_lexer": "ipython3",
   "version": "3.11.7"
  }
 },
 "nbformat": 4,
 "nbformat_minor": 2
}
